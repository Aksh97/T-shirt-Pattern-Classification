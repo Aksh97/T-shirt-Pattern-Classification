{
  "nbformat": 4,
  "nbformat_minor": 0,
  "metadata": {
    "colab": {
      "name": "Testing Script.ipynb",
      "provenance": [],
      "collapsed_sections": [
        "6zyJl1FV0Caa",
        "NRGv_jAuzfiT",
        "YwNyOSSOz6Cm"
      ]
    },
    "kernelspec": {
      "name": "python3",
      "display_name": "Python 3"
    }
  },
  "cells": [
    {
      "cell_type": "markdown",
      "metadata": {
        "id": "6zyJl1FV0Caa",
        "colab_type": "text"
      },
      "source": [
        "### Importing dependencies"
      ]
    },
    {
      "cell_type": "code",
      "metadata": {
        "id": "DMv_uJ8jtJzd",
        "colab_type": "code",
        "colab": {}
      },
      "source": [
        "import numpy as np\n",
        "import pandas as pd\n",
        "import os\n",
        "import random\n",
        "import PIL\n",
        "import cv2\n",
        "import matplotlib.pyplot as plt\n",
        "from keras.models import Sequential\n",
        "import itertools\n",
        "from PIL import Image\n",
        "from keras.models import Model\n",
        "from keras.layers import Flatten, Dense, Dropout\n",
        "from keras.layers import Convolution2D, MaxPooling2D\n",
        "from keras.layers import BatchNormalization, GlobalAveragePooling2D\n",
        "from keras.utils import to_categorical\n",
        "from keras.models import load_model\n",
        "from keras.optimizers import Adam\n",
        "from sklearn.preprocessing import LabelEncoder  \n",
        "from keras.optimizers import SGD\n",
        "from keras.applications.inception_v3 import InceptionV3, decode_predictions\n",
        "from keras.layers import GlobalAveragePooling2D\n",
        "from keras.optimizers import Adam, SGD\n",
        "from keras.preprocessing.image import ImageDataGenerator\n",
        "import warnings\n",
        "warnings.filterwarnings(\"ignore\")"
      ],
      "execution_count": 0,
      "outputs": []
    },
    {
      "cell_type": "markdown",
      "metadata": {
        "id": "NRGv_jAuzfiT",
        "colab_type": "text"
      },
      "source": [
        "### Test data pre processing"
      ]
    },
    {
      "cell_type": "code",
      "metadata": {
        "id": "u3quDC2qtOOS",
        "colab_type": "code",
        "colab": {}
      },
      "source": [
        "test_files = os.listdir('test_images') "
      ],
      "execution_count": 0,
      "outputs": []
    },
    {
      "cell_type": "code",
      "metadata": {
        "id": "WHt5HiJwtQ69",
        "colab_type": "code",
        "colab": {}
      },
      "source": [
        "size = 256\n",
        "def PreprocessingImages(files,directory):\n",
        "    x = []\n",
        "    print('Preprocessing '+directory+' images ...')\n",
        "    for file in files:\n",
        "        Imgpath = directory+'_images/'+file\n",
        "        im = Image.open(Imgpath)\n",
        "        im = im.resize((size, size), PIL.Image.NEAREST)\n",
        "        im = np.asarray(im, dtype='float64')\n",
        "        x.append(im)\n",
        "    print('Total number of '+directory+' images:', len(files))\n",
        "    return(x)"
      ],
      "execution_count": 0,
      "outputs": []
    },
    {
      "cell_type": "code",
      "metadata": {
        "id": "Zss0syH4tUWp",
        "colab_type": "code",
        "colab": {}
      },
      "source": [
        "x_test = PreprocessingImages(test_files, 'test')\n",
        "print(\"Done reading all images\")"
      ],
      "execution_count": 0,
      "outputs": []
    },
    {
      "cell_type": "code",
      "metadata": {
        "id": "L68eYOxntW2r",
        "colab_type": "code",
        "colab": {}
      },
      "source": [
        "x_test = np.array(x_test)\n",
        "print(x_test.shape, 'Test Data Shape')\n",
        "x_test = x_test.astype('float32')\n",
        "x_test /= 255."
      ],
      "execution_count": 0,
      "outputs": []
    },
    {
      "cell_type": "code",
      "metadata": {
        "id": "LSvYPJ2ytdnU",
        "colab_type": "code",
        "colab": {}
      },
      "source": [
        "def GetLabel(files):\n",
        "    y = []\n",
        "    for file in files:\n",
        "        y.append(file.split('_')[0])\n",
        "    return(y)"
      ],
      "execution_count": 0,
      "outputs": []
    },
    {
      "cell_type": "code",
      "metadata": {
        "id": "V6fgD7bUtf8b",
        "colab_type": "code",
        "colab": {}
      },
      "source": [
        "y_test = GetLabel(test_files)"
      ],
      "execution_count": 0,
      "outputs": []
    },
    {
      "cell_type": "code",
      "metadata": {
        "id": "Xtw4AdrFtiF6",
        "colab_type": "code",
        "colab": {}
      },
      "source": [
        "#Encoding the labels(from text to numbers)\n",
        "le = LabelEncoder()\n",
        "y_test = le.fit_transform(y_test)\n",
        "\n",
        "keys = le.classes_\n",
        "values = le.transform(le.classes_)\n",
        "dictionary = dict(zip(keys, values))\n",
        "print(dictionary)"
      ],
      "execution_count": 0,
      "outputs": []
    },
    {
      "cell_type": "code",
      "metadata": {
        "id": "A0GA5VadtppK",
        "colab_type": "code",
        "colab": {}
      },
      "source": [
        "y_test = to_categorical(y_test)\n",
        "print(y_test.shape, 'Test data Labels Shape')"
      ],
      "execution_count": 0,
      "outputs": []
    },
    {
      "cell_type": "markdown",
      "metadata": {
        "id": "YwNyOSSOz6Cm",
        "colab_type": "text"
      },
      "source": [
        "### Evaluation"
      ]
    },
    {
      "cell_type": "code",
      "metadata": {
        "id": "c5liT_TfzSGT",
        "colab_type": "code",
        "colab": {}
      },
      "source": [
        "model = load_model('model_sgd_lr_0.05_freeze_True.h5')"
      ],
      "execution_count": 0,
      "outputs": []
    },
    {
      "cell_type": "code",
      "metadata": {
        "id": "lsVyzMzXzRev",
        "colab_type": "code",
        "colab": {}
      },
      "source": [
        "scores = model.evaluate(x_test, y_test, verbose=0)\n",
        "print(\"Accuracy: %.2f%%\" % (scores[1]*100))"
      ],
      "execution_count": 0,
      "outputs": []
    }
  ]
}